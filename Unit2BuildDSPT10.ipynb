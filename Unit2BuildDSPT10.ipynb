{
  "nbformat": 4,
  "nbformat_minor": 0,
  "metadata": {
    "colab": {
      "name": "Unit2BuildDSPT10.ipynb",
      "provenance": [],
      "authorship_tag": "ABX9TyNsoCLovn/DdN6xAU6p3F+j",
      "include_colab_link": true
    },
    "kernelspec": {
      "name": "python3",
      "display_name": "Python 3"
    }
  },
  "cells": [
    {
      "cell_type": "markdown",
      "metadata": {
        "id": "view-in-github",
        "colab_type": "text"
      },
      "source": [
        "<a href=\"https://colab.research.google.com/github/jraval/Unit2BuildProjectLambda/blob/main/Unit2BuildDSPT10.ipynb\" target=\"_parent\"><img src=\"https://colab.research.google.com/assets/colab-badge.svg\" alt=\"Open In Colab\"/></a>"
      ]
    },
    {
      "cell_type": "markdown",
      "metadata": {
        "id": "8Xuh-9sVrZt9"
      },
      "source": [
        "\r\n",
        "Lambda School Data Science\r\n",
        "\r\n",
        "Unit 2, Sprint 3, Module 1\r\n",
        "\r\n",
        "Define ML problems\r\n",
        "You will use your portfolio project dataset for all assignments this sprint.\r\n",
        "\r\n",
        "Assignment\r\n",
        "Complete these tasks for your project, and document your decisions.\r\n",
        "\r\n",
        "[ ] Choose your target. Which column in your tabular dataset will you predict?\r\n",
        "[ ] Is your problem regression or classification?\r\n",
        "[ ] How is your target distributed?\r\n",
        "Classification: How many classes? Are the classes imbalanced?\r\n",
        "Regression: Is the target right-skewed? If so, you may want to log transform the target.\r\n",
        "[ ] Choose your evaluation metric(s).\r\n",
        "Classification: Is your majority class frequency >= 50% and < 70% ? If so, you can just use accuracy if you want. Outside that range, accuracy could be misleading. What evaluation metric will you choose, in addition to or instead of accuracy?\r\n",
        "Regression: Will you use mean absolute error, root mean squared error, R^2, or other regression metrics?\r\n",
        "[ ] Choose which observations you will use to train, validate, and test your model.\r\n",
        "Are some observations outliers? Will you exclude them?\r\n",
        "Will you do a random split or a time-based split?\r\n",
        "[ ] Begin to clean and explore your data.\r\n",
        "[ ] Begin to choose which features, if any, to exclude. Would some features \"leak\" future information?\r\n",
        "If you haven't found a dataset yet, do that today. Review requirements for your portfolio project and choose your dataset.\r\n",
        "\r\n",
        "Some students worry, what if my model isn't “good”? Then, produce a detailed tribute to your wrongness. That is science!"
      ]
    },
    {
      "cell_type": "markdown",
      "metadata": {
        "id": "-3B38YKprdyL"
      },
      "source": [
        "My target is the incidence of falls in the elderly.  My problem is classification although there are continuous features.  The classes are imbalanced.  I will probably choose ROC/AUC score.  There are some outliers.  "
      ]
    },
    {
      "cell_type": "code",
      "metadata": {
        "id": "FFIZGm9y_RmY"
      },
      "source": [
        "import pandas as pd\r\n",
        "import numpy as np\r\n",
        "import matplotlib.pyplot as plt"
      ],
      "execution_count": 483,
      "outputs": []
    },
    {
      "cell_type": "markdown",
      "metadata": {
        "id": "rYXPAEZurc0c"
      },
      "source": [
        ""
      ]
    },
    {
      "cell_type": "code",
      "metadata": {
        "colab": {
          "base_uri": "https://localhost:8080/"
        },
        "id": "21bLJfT3AcxA",
        "outputId": "3326adc6-6912-4b64-c71c-f30d6d2a8608"
      },
      "source": [
        "import os\r\n",
        "print(os.getcwd())"
      ],
      "execution_count": 484,
      "outputs": [
        {
          "output_type": "stream",
          "text": [
            "/content\n"
          ],
          "name": "stdout"
        }
      ]
    },
    {
      "cell_type": "code",
      "metadata": {
        "colab": {
          "base_uri": "https://localhost:8080/"
        },
        "id": "4s4yprgDBCX2",
        "outputId": "df44c3c9-2b13-4e47-d029-9bc609b98015"
      },
      "source": [
        "print(os.listdir(os.getcwd()))"
      ],
      "execution_count": 485,
      "outputs": [
        {
          "output_type": "stream",
          "text": [
            "['.config', 'KaggleFallDetection_2_8_21 (5).csv', 'KaggleFallDetection_2_8_21 (1).csv', 'KaggleFallDetection_2_8_21 (3).csv', 'KaggleFallDetection_2_8_21 (2).csv', 'KaggleFallDetection_2_8_21 (4).csv', 'KaggleFallDetection_2_8_21.csv', 'sample_data']\n"
          ],
          "name": "stdout"
        }
      ]
    },
    {
      "cell_type": "code",
      "metadata": {
        "colab": {
          "resources": {
            "http://localhost:8080/nbextensions/google.colab/files.js": {
              "data": "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",
              "ok": true,
              "headers": [
                [
                  "content-type",
                  "application/javascript"
                ]
              ],
              "status": 200,
              "status_text": ""
            }
          },
          "base_uri": "https://localhost:8080/",
          "height": 72
        },
        "id": "JYEh0qe1Bftl",
        "outputId": "4c4ab059-d53c-41b2-d8da-5137e2959583"
      },
      "source": [
        "from google.colab import files\r\n",
        "uploaded = files.upload()"
      ],
      "execution_count": 449,
      "outputs": [
        {
          "output_type": "display_data",
          "data": {
            "text/html": [
              "\n",
              "     <input type=\"file\" id=\"files-a2d2bbf9-0ac9-4ab0-b3bb-c1840ffbff5d\" name=\"files[]\" multiple disabled\n",
              "        style=\"border:none\" />\n",
              "     <output id=\"result-a2d2bbf9-0ac9-4ab0-b3bb-c1840ffbff5d\">\n",
              "      Upload widget is only available when the cell has been executed in the\n",
              "      current browser session. Please rerun this cell to enable.\n",
              "      </output>\n",
              "      <script src=\"/nbextensions/google.colab/files.js\"></script> "
            ],
            "text/plain": [
              "<IPython.core.display.HTML object>"
            ]
          },
          "metadata": {
            "tags": []
          }
        },
        {
          "output_type": "stream",
          "text": [
            "Saving KaggleFallDetection_2_8_21.csv to KaggleFallDetection_2_8_21 (5).csv\n"
          ],
          "name": "stdout"
        }
      ]
    },
    {
      "cell_type": "code",
      "metadata": {
        "id": "WySq18Xd_mUw"
      },
      "source": [
        "data = pd.read_csv(\"KaggleFallDetection_2_8_21.csv\") \r\n",
        "pd.options.display.max_columns = None"
      ],
      "execution_count": 486,
      "outputs": []
    },
    {
      "cell_type": "code",
      "metadata": {
        "colab": {
          "base_uri": "https://localhost:8080/"
        },
        "id": "1hJE7g6jPBqV",
        "outputId": "5dda00a7-923d-42c6-a229-0970b2d59dbb"
      },
      "source": [
        "!pip install category_encoders==2.*"
      ],
      "execution_count": 487,
      "outputs": [
        {
          "output_type": "stream",
          "text": [
            "Requirement already satisfied: category_encoders==2.* in /usr/local/lib/python3.6/dist-packages (2.2.2)\n",
            "Requirement already satisfied: patsy>=0.5.1 in /usr/local/lib/python3.6/dist-packages (from category_encoders==2.*) (0.5.1)\n",
            "Requirement already satisfied: scipy>=1.0.0 in /usr/local/lib/python3.6/dist-packages (from category_encoders==2.*) (1.4.1)\n",
            "Requirement already satisfied: numpy>=1.14.0 in /usr/local/lib/python3.6/dist-packages (from category_encoders==2.*) (1.19.5)\n",
            "Requirement already satisfied: scikit-learn>=0.20.0 in /usr/local/lib/python3.6/dist-packages (from category_encoders==2.*) (0.22.2.post1)\n",
            "Requirement already satisfied: pandas>=0.21.1 in /usr/local/lib/python3.6/dist-packages (from category_encoders==2.*) (1.1.5)\n",
            "Requirement already satisfied: statsmodels>=0.9.0 in /usr/local/lib/python3.6/dist-packages (from category_encoders==2.*) (0.10.2)\n",
            "Requirement already satisfied: six in /usr/local/lib/python3.6/dist-packages (from patsy>=0.5.1->category_encoders==2.*) (1.15.0)\n",
            "Requirement already satisfied: joblib>=0.11 in /usr/local/lib/python3.6/dist-packages (from scikit-learn>=0.20.0->category_encoders==2.*) (1.0.0)\n",
            "Requirement already satisfied: pytz>=2017.2 in /usr/local/lib/python3.6/dist-packages (from pandas>=0.21.1->category_encoders==2.*) (2018.9)\n",
            "Requirement already satisfied: python-dateutil>=2.7.3 in /usr/local/lib/python3.6/dist-packages (from pandas>=0.21.1->category_encoders==2.*) (2.8.1)\n"
          ],
          "name": "stdout"
        }
      ]
    },
    {
      "cell_type": "code",
      "metadata": {
        "colab": {
          "base_uri": "https://localhost:8080/",
          "height": 419
        },
        "id": "HJ8EHaYWGyvx",
        "outputId": "3ed83e1c-95b8-491d-874e-c448bbd40218"
      },
      "source": [
        "data"
      ],
      "execution_count": 488,
      "outputs": [
        {
          "output_type": "execute_result",
          "data": {
            "text/html": [
              "<div>\n",
              "<style scoped>\n",
              "    .dataframe tbody tr th:only-of-type {\n",
              "        vertical-align: middle;\n",
              "    }\n",
              "\n",
              "    .dataframe tbody tr th {\n",
              "        vertical-align: top;\n",
              "    }\n",
              "\n",
              "    .dataframe thead th {\n",
              "        text-align: right;\n",
              "    }\n",
              "</style>\n",
              "<table border=\"1\" class=\"dataframe\">\n",
              "  <thead>\n",
              "    <tr style=\"text-align: right;\">\n",
              "      <th></th>\n",
              "      <th>ACTIVITY</th>\n",
              "      <th>TIME</th>\n",
              "      <th>SL</th>\n",
              "      <th>EEG</th>\n",
              "      <th>BP</th>\n",
              "      <th>HR</th>\n",
              "      <th>CIRCLUATION</th>\n",
              "    </tr>\n",
              "  </thead>\n",
              "  <tbody>\n",
              "    <tr>\n",
              "      <th>0</th>\n",
              "      <td>3</td>\n",
              "      <td>4722.92</td>\n",
              "      <td>4019.64</td>\n",
              "      <td>-1600.00</td>\n",
              "      <td>13</td>\n",
              "      <td>79</td>\n",
              "      <td>317</td>\n",
              "    </tr>\n",
              "    <tr>\n",
              "      <th>1</th>\n",
              "      <td>2</td>\n",
              "      <td>4059.12</td>\n",
              "      <td>2191.03</td>\n",
              "      <td>-1146.08</td>\n",
              "      <td>20</td>\n",
              "      <td>54</td>\n",
              "      <td>165</td>\n",
              "    </tr>\n",
              "    <tr>\n",
              "      <th>2</th>\n",
              "      <td>2</td>\n",
              "      <td>4773.56</td>\n",
              "      <td>2787.99</td>\n",
              "      <td>-1263.38</td>\n",
              "      <td>46</td>\n",
              "      <td>67</td>\n",
              "      <td>224</td>\n",
              "    </tr>\n",
              "    <tr>\n",
              "      <th>3</th>\n",
              "      <td>4</td>\n",
              "      <td>8271.27</td>\n",
              "      <td>9545.98</td>\n",
              "      <td>-2848.93</td>\n",
              "      <td>26</td>\n",
              "      <td>138</td>\n",
              "      <td>554</td>\n",
              "    </tr>\n",
              "    <tr>\n",
              "      <th>4</th>\n",
              "      <td>4</td>\n",
              "      <td>7102.16</td>\n",
              "      <td>14148.80</td>\n",
              "      <td>-2381.15</td>\n",
              "      <td>85</td>\n",
              "      <td>120</td>\n",
              "      <td>809</td>\n",
              "    </tr>\n",
              "    <tr>\n",
              "      <th>...</th>\n",
              "      <td>...</td>\n",
              "      <td>...</td>\n",
              "      <td>...</td>\n",
              "      <td>...</td>\n",
              "      <td>...</td>\n",
              "      <td>...</td>\n",
              "      <td>...</td>\n",
              "    </tr>\n",
              "    <tr>\n",
              "      <th>16377</th>\n",
              "      <td>4</td>\n",
              "      <td>9280.68</td>\n",
              "      <td>11417.00</td>\n",
              "      <td>-3021.64</td>\n",
              "      <td>36</td>\n",
              "      <td>156</td>\n",
              "      <td>654</td>\n",
              "    </tr>\n",
              "    <tr>\n",
              "      <th>16378</th>\n",
              "      <td>3</td>\n",
              "      <td>8479.69</td>\n",
              "      <td>9455.54</td>\n",
              "      <td>-2932.85</td>\n",
              "      <td>17</td>\n",
              "      <td>138</td>\n",
              "      <td>554</td>\n",
              "    </tr>\n",
              "    <tr>\n",
              "      <th>16379</th>\n",
              "      <td>2</td>\n",
              "      <td>8872.53</td>\n",
              "      <td>27449.90</td>\n",
              "      <td>-2870.00</td>\n",
              "      <td>33</td>\n",
              "      <td>156</td>\n",
              "      <td>1364</td>\n",
              "    </tr>\n",
              "    <tr>\n",
              "      <th>16380</th>\n",
              "      <td>4</td>\n",
              "      <td>7738.99</td>\n",
              "      <td>26466.40</td>\n",
              "      <td>-2920.24</td>\n",
              "      <td>97</td>\n",
              "      <td>156</td>\n",
              "      <td>1521</td>\n",
              "    </tr>\n",
              "    <tr>\n",
              "      <th>16381</th>\n",
              "      <td>3</td>\n",
              "      <td>9368.34</td>\n",
              "      <td>39149.10</td>\n",
              "      <td>-2970.00</td>\n",
              "      <td>21</td>\n",
              "      <td>196</td>\n",
              "      <td>1885</td>\n",
              "    </tr>\n",
              "  </tbody>\n",
              "</table>\n",
              "<p>16382 rows × 7 columns</p>\n",
              "</div>"
            ],
            "text/plain": [
              "       ACTIVITY     TIME        SL      EEG  BP   HR  CIRCLUATION\n",
              "0             3  4722.92   4019.64 -1600.00  13   79          317\n",
              "1             2  4059.12   2191.03 -1146.08  20   54          165\n",
              "2             2  4773.56   2787.99 -1263.38  46   67          224\n",
              "3             4  8271.27   9545.98 -2848.93  26  138          554\n",
              "4             4  7102.16  14148.80 -2381.15  85  120          809\n",
              "...         ...      ...       ...      ...  ..  ...          ...\n",
              "16377         4  9280.68  11417.00 -3021.64  36  156          654\n",
              "16378         3  8479.69   9455.54 -2932.85  17  138          554\n",
              "16379         2  8872.53  27449.90 -2870.00  33  156         1364\n",
              "16380         4  7738.99  26466.40 -2920.24  97  156         1521\n",
              "16381         3  9368.34  39149.10 -2970.00  21  196         1885\n",
              "\n",
              "[16382 rows x 7 columns]"
            ]
          },
          "metadata": {
            "tags": []
          },
          "execution_count": 488
        }
      ]
    },
    {
      "cell_type": "code",
      "metadata": {
        "colab": {
          "base_uri": "https://localhost:8080/",
          "height": 297
        },
        "id": "jdO6khF98AjY",
        "outputId": "05fd9670-0b1c-4952-fe96-6b006c6a1184"
      },
      "source": [
        "data.describe(include='all')"
      ],
      "execution_count": 489,
      "outputs": [
        {
          "output_type": "execute_result",
          "data": {
            "text/html": [
              "<div>\n",
              "<style scoped>\n",
              "    .dataframe tbody tr th:only-of-type {\n",
              "        vertical-align: middle;\n",
              "    }\n",
              "\n",
              "    .dataframe tbody tr th {\n",
              "        vertical-align: top;\n",
              "    }\n",
              "\n",
              "    .dataframe thead th {\n",
              "        text-align: right;\n",
              "    }\n",
              "</style>\n",
              "<table border=\"1\" class=\"dataframe\">\n",
              "  <thead>\n",
              "    <tr style=\"text-align: right;\">\n",
              "      <th></th>\n",
              "      <th>ACTIVITY</th>\n",
              "      <th>TIME</th>\n",
              "      <th>SL</th>\n",
              "      <th>EEG</th>\n",
              "      <th>BP</th>\n",
              "      <th>HR</th>\n",
              "      <th>CIRCLUATION</th>\n",
              "    </tr>\n",
              "  </thead>\n",
              "  <tbody>\n",
              "    <tr>\n",
              "      <th>count</th>\n",
              "      <td>16382.000000</td>\n",
              "      <td>16382.000000</td>\n",
              "      <td>1.638200e+04</td>\n",
              "      <td>1.638200e+04</td>\n",
              "      <td>16382.000000</td>\n",
              "      <td>16382.000000</td>\n",
              "      <td>16382.000000</td>\n",
              "    </tr>\n",
              "    <tr>\n",
              "      <th>mean</th>\n",
              "      <td>2.361494</td>\n",
              "      <td>10936.842478</td>\n",
              "      <td>7.527198e+04</td>\n",
              "      <td>-5.621125e+03</td>\n",
              "      <td>58.251068</td>\n",
              "      <td>211.536992</td>\n",
              "      <td>2894.341472</td>\n",
              "    </tr>\n",
              "    <tr>\n",
              "      <th>std</th>\n",
              "      <td>1.739195</td>\n",
              "      <td>5261.463601</td>\n",
              "      <td>1.275022e+05</td>\n",
              "      <td>1.082209e+05</td>\n",
              "      <td>48.292926</td>\n",
              "      <td>129.949521</td>\n",
              "      <td>3825.927830</td>\n",
              "    </tr>\n",
              "    <tr>\n",
              "      <th>min</th>\n",
              "      <td>0.000000</td>\n",
              "      <td>1954.230000</td>\n",
              "      <td>4.222420e+01</td>\n",
              "      <td>-1.262600e+07</td>\n",
              "      <td>0.000000</td>\n",
              "      <td>33.000000</td>\n",
              "      <td>5.000000</td>\n",
              "    </tr>\n",
              "    <tr>\n",
              "      <th>25%</th>\n",
              "      <td>0.000000</td>\n",
              "      <td>7263.685000</td>\n",
              "      <td>9.941170e+03</td>\n",
              "      <td>-5.630000e+03</td>\n",
              "      <td>25.000000</td>\n",
              "      <td>119.000000</td>\n",
              "      <td>587.000000</td>\n",
              "    </tr>\n",
              "    <tr>\n",
              "      <th>50%</th>\n",
              "      <td>3.000000</td>\n",
              "      <td>9769.355000</td>\n",
              "      <td>3.118920e+04</td>\n",
              "      <td>-3.361275e+03</td>\n",
              "      <td>44.000000</td>\n",
              "      <td>180.000000</td>\n",
              "      <td>1581.000000</td>\n",
              "    </tr>\n",
              "    <tr>\n",
              "      <th>75%</th>\n",
              "      <td>4.000000</td>\n",
              "      <td>13481.650000</td>\n",
              "      <td>8.076145e+04</td>\n",
              "      <td>-2.150000e+03</td>\n",
              "      <td>78.000000</td>\n",
              "      <td>271.000000</td>\n",
              "      <td>3539.000000</td>\n",
              "    </tr>\n",
              "    <tr>\n",
              "      <th>max</th>\n",
              "      <td>5.000000</td>\n",
              "      <td>50895.500000</td>\n",
              "      <td>2.426140e+06</td>\n",
              "      <td>1.410000e+06</td>\n",
              "      <td>533.000000</td>\n",
              "      <td>986.000000</td>\n",
              "      <td>52210.000000</td>\n",
              "    </tr>\n",
              "  </tbody>\n",
              "</table>\n",
              "</div>"
            ],
            "text/plain": [
              "           ACTIVITY          TIME            SL           EEG            BP  \\\n",
              "count  16382.000000  16382.000000  1.638200e+04  1.638200e+04  16382.000000   \n",
              "mean       2.361494  10936.842478  7.527198e+04 -5.621125e+03     58.251068   \n",
              "std        1.739195   5261.463601  1.275022e+05  1.082209e+05     48.292926   \n",
              "min        0.000000   1954.230000  4.222420e+01 -1.262600e+07      0.000000   \n",
              "25%        0.000000   7263.685000  9.941170e+03 -5.630000e+03     25.000000   \n",
              "50%        3.000000   9769.355000  3.118920e+04 -3.361275e+03     44.000000   \n",
              "75%        4.000000  13481.650000  8.076145e+04 -2.150000e+03     78.000000   \n",
              "max        5.000000  50895.500000  2.426140e+06  1.410000e+06    533.000000   \n",
              "\n",
              "                 HR   CIRCLUATION  \n",
              "count  16382.000000  16382.000000  \n",
              "mean     211.536992   2894.341472  \n",
              "std      129.949521   3825.927830  \n",
              "min       33.000000      5.000000  \n",
              "25%      119.000000    587.000000  \n",
              "50%      180.000000   1581.000000  \n",
              "75%      271.000000   3539.000000  \n",
              "max      986.000000  52210.000000  "
            ]
          },
          "metadata": {
            "tags": []
          },
          "execution_count": 489
        }
      ]
    },
    {
      "cell_type": "markdown",
      "metadata": {
        "id": "SIVWgs-NsxbI"
      },
      "source": [
        "### Choose your target \n",
        "\n",
        "Which column in your tabular dataset will you predict?\n",
        "\n",
        "I picked incidence of falls as my target because that is what the study was measuring, can we predict falling?"
      ]
    },
    {
      "cell_type": "code",
      "metadata": {
        "colab": {
          "base_uri": "https://localhost:8080/",
          "height": 204
        },
        "id": "S97OVHiQXcVd",
        "outputId": "04a8c5dd-fa0e-4a43-9c82-fa7d9bcbd5d5"
      },
      "source": [
        "df = data\r\n",
        "df.head()"
      ],
      "execution_count": 490,
      "outputs": [
        {
          "output_type": "execute_result",
          "data": {
            "text/html": [
              "<div>\n",
              "<style scoped>\n",
              "    .dataframe tbody tr th:only-of-type {\n",
              "        vertical-align: middle;\n",
              "    }\n",
              "\n",
              "    .dataframe tbody tr th {\n",
              "        vertical-align: top;\n",
              "    }\n",
              "\n",
              "    .dataframe thead th {\n",
              "        text-align: right;\n",
              "    }\n",
              "</style>\n",
              "<table border=\"1\" class=\"dataframe\">\n",
              "  <thead>\n",
              "    <tr style=\"text-align: right;\">\n",
              "      <th></th>\n",
              "      <th>ACTIVITY</th>\n",
              "      <th>TIME</th>\n",
              "      <th>SL</th>\n",
              "      <th>EEG</th>\n",
              "      <th>BP</th>\n",
              "      <th>HR</th>\n",
              "      <th>CIRCLUATION</th>\n",
              "    </tr>\n",
              "  </thead>\n",
              "  <tbody>\n",
              "    <tr>\n",
              "      <th>0</th>\n",
              "      <td>3</td>\n",
              "      <td>4722.92</td>\n",
              "      <td>4019.64</td>\n",
              "      <td>-1600.00</td>\n",
              "      <td>13</td>\n",
              "      <td>79</td>\n",
              "      <td>317</td>\n",
              "    </tr>\n",
              "    <tr>\n",
              "      <th>1</th>\n",
              "      <td>2</td>\n",
              "      <td>4059.12</td>\n",
              "      <td>2191.03</td>\n",
              "      <td>-1146.08</td>\n",
              "      <td>20</td>\n",
              "      <td>54</td>\n",
              "      <td>165</td>\n",
              "    </tr>\n",
              "    <tr>\n",
              "      <th>2</th>\n",
              "      <td>2</td>\n",
              "      <td>4773.56</td>\n",
              "      <td>2787.99</td>\n",
              "      <td>-1263.38</td>\n",
              "      <td>46</td>\n",
              "      <td>67</td>\n",
              "      <td>224</td>\n",
              "    </tr>\n",
              "    <tr>\n",
              "      <th>3</th>\n",
              "      <td>4</td>\n",
              "      <td>8271.27</td>\n",
              "      <td>9545.98</td>\n",
              "      <td>-2848.93</td>\n",
              "      <td>26</td>\n",
              "      <td>138</td>\n",
              "      <td>554</td>\n",
              "    </tr>\n",
              "    <tr>\n",
              "      <th>4</th>\n",
              "      <td>4</td>\n",
              "      <td>7102.16</td>\n",
              "      <td>14148.80</td>\n",
              "      <td>-2381.15</td>\n",
              "      <td>85</td>\n",
              "      <td>120</td>\n",
              "      <td>809</td>\n",
              "    </tr>\n",
              "  </tbody>\n",
              "</table>\n",
              "</div>"
            ],
            "text/plain": [
              "   ACTIVITY     TIME        SL      EEG  BP   HR  CIRCLUATION\n",
              "0         3  4722.92   4019.64 -1600.00  13   79          317\n",
              "1         2  4059.12   2191.03 -1146.08  20   54          165\n",
              "2         2  4773.56   2787.99 -1263.38  46   67          224\n",
              "3         4  8271.27   9545.98 -2848.93  26  138          554\n",
              "4         4  7102.16  14148.80 -2381.15  85  120          809"
            ]
          },
          "metadata": {
            "tags": []
          },
          "execution_count": 490
        }
      ]
    },
    {
      "cell_type": "code",
      "metadata": {
        "colab": {
          "base_uri": "https://localhost:8080/",
          "height": 35
        },
        "id": "QIMtYa40dH7U",
        "outputId": "a821453a-200e-481d-d478-1cbcab94c3f9"
      },
      "source": [
        "'''\r\n",
        "def replace_fall():\r\n",
        "  if x == 3:\r\n",
        "    x = 1\r\n",
        "  else:\r\n",
        "    x = 0\r\n",
        "'''"
      ],
      "execution_count": 491,
      "outputs": [
        {
          "output_type": "execute_result",
          "data": {
            "application/vnd.google.colaboratory.intrinsic+json": {
              "type": "string"
            },
            "text/plain": [
              "'\\ndef replace_fall():\\n  if x == 3:\\n    x = 1\\n  else:\\n    x = 0\\n'"
            ]
          },
          "metadata": {
            "tags": []
          },
          "execution_count": 491
        }
      ]
    },
    {
      "cell_type": "code",
      "metadata": {
        "colab": {
          "base_uri": "https://localhost:8080/",
          "height": 333
        },
        "id": "EumKxKIEd8rI",
        "outputId": "b3333166-df53-47c5-add7-ea8149981618"
      },
      "source": [
        "import seaborn as sns #There is no clear majority\r\n",
        "import matplotlib.pyplot as plt\r\n",
        "sns.distplot(df['ACTIVITY']);"
      ],
      "execution_count": 492,
      "outputs": [
        {
          "output_type": "stream",
          "text": [
            "/usr/local/lib/python3.6/dist-packages/seaborn/distributions.py:2557: FutureWarning: `distplot` is a deprecated function and will be removed in a future version. Please adapt your code to use either `displot` (a figure-level function with similar flexibility) or `histplot` (an axes-level function for histograms).\n",
            "  warnings.warn(msg, FutureWarning)\n"
          ],
          "name": "stderr"
        },
        {
          "output_type": "display_data",
          "data": {
            "image/png": "[encoded data removed]",
            "text/plain": [
              "<Figure size 432x288 with 1 Axes>"
            ]
          },
          "metadata": {
            "tags": [],
            "needs_background": "light"
          }
        }
      ]
    },
    {
      "cell_type": "code",
      "metadata": {
        "colab": {
          "base_uri": "https://localhost:8080/"
        },
        "id": "ImDBJOf1ei1J",
        "outputId": "83b0cad3-333f-4ee5-8d99-37163dd93fc5"
      },
      "source": [
        "y = df['ACTIVITY']\r\n",
        "y.nunique()\r\n",
        "y.value_counts(normalize=True)"
      ],
      "execution_count": 493,
      "outputs": [
        {
          "output_type": "execute_result",
          "data": {
            "text/plain": [
              "0    0.281284\n",
              "3    0.219021\n",
              "4    0.213283\n",
              "2    0.152729\n",
              "5    0.103040\n",
              "1    0.030643\n",
              "Name: ACTIVITY, dtype: float64"
            ]
          },
          "metadata": {
            "tags": []
          },
          "execution_count": 493
        }
      ]
    },
    {
      "cell_type": "markdown",
      "metadata": {
        "id": "JUwgjXX4kbl8"
      },
      "source": [
        "0- Standing\r\n",
        "1- Walking\r\n",
        "2- Sitting\r\n",
        "3- Falling\r\n",
        "4- Cramps\r\n",
        "5- Running"
      ]
    },
    {
      "cell_type": "code",
      "metadata": {
        "colab": {
          "base_uri": "https://localhost:8080/"
        },
        "id": "Qe5HcBCoezPZ",
        "outputId": "52c5f8a3-b356-4020-bd74-142f9b041eec"
      },
      "source": [
        "df['ACTIVITY'].describe() #Multiclass Target"
      ],
      "execution_count": 494,
      "outputs": [
        {
          "output_type": "execute_result",
          "data": {
            "text/plain": [
              "count    16382.000000\n",
              "mean         2.361494\n",
              "std          1.739195\n",
              "min          0.000000\n",
              "25%          0.000000\n",
              "50%          3.000000\n",
              "75%          4.000000\n",
              "max          5.000000\n",
              "Name: ACTIVITY, dtype: float64"
            ]
          },
          "metadata": {
            "tags": []
          },
          "execution_count": 494
        }
      ]
    },
    {
      "cell_type": "code",
      "metadata": {
        "id": "EnbtT7nAiTGV"
      },
      "source": [
        "df['FALLS'] = df['ACTIVITY']  #I'm expecting overfitting if I use these features because they were part of the same column, these features are essentially tied together.\r\n",
        "df['STANDING'] = df['ACTIVITY']\r\n",
        "df['WALKING'] = df['ACTIVITY']\r\n",
        "df['SITTING'] = df['ACTIVITY']\r\n",
        "df['CRAMPS'] = df['ACTIVITY']\r\n",
        "df['RUNNING'] = df['ACTIVITY']"
      ],
      "execution_count": 495,
      "outputs": []
    },
    {
      "cell_type": "code",
      "metadata": {
        "id": "QZnDU_PphSLF"
      },
      "source": [
        "df = df.replace({'FALLS':{3:1, 1:0, 2:0, 4:0, 5:0}})\r\n",
        "df = df.replace({'STANDING':{0:1, 1:0, 2:0, 3:0, 4:0, 5:0}})\r\n",
        "df = df.replace({'WALKING':{2:0, 3:0, 4:0, 5:0}})\r\n",
        "df = df.replace({'SITTING':{1:0, 2:1, 3:0, 4:0, 5:0,}})\r\n",
        "df = df.replace({'CRAMPS':{1:0, 2:0, 3:0, 4:1, 5:0}})\r\n",
        "df = df.replace({'RUNNING':{1:0, 2:0, 3:0, 4:0, 5:1}})"
      ],
      "execution_count": 496,
      "outputs": []
    },
    {
      "cell_type": "code",
      "metadata": {
        "colab": {
          "base_uri": "https://localhost:8080/",
          "height": 613
        },
        "id": "OgSLaa-ntJ0m",
        "outputId": "49dcae71-9a63-4ef8-fd66-8f8eeb56823b"
      },
      "source": [
        "import seaborn as sns#EDA - determine which columns to drop, there was overfitting in train set\r\n",
        "\r\n",
        "corr_matrix = df.corr()\r\n",
        "fig, ax = plt.subplots(figsize=(15, 10))\r\n",
        "ax = sns.heatmap(corr_matrix,\r\n",
        "                 annot=True,\r\n",
        "                 linewidths=0.5,\r\n",
        "                 fmt=\".2f\",\r\n",
        "                 cmap=\"YlGnBu\");\r\n",
        "bottom, top = ax.get_ylim()\r\n",
        "ax.set_ylim()"
      ],
      "execution_count": 572,
      "outputs": [
        {
          "output_type": "execute_result",
          "data": {
            "text/plain": [
              "(13.0, 0.0)"
            ]
          },
          "metadata": {
            "tags": []
          },
          "execution_count": 572
        },
        {
          "output_type": "display_data",
          "data": {
            "image/png": "[encoded data removed]",
            "text/plain": [
              "<Figure size 1080x720 with 2 Axes>"
            ]
          },
          "metadata": {
            "tags": [],
            "needs_background": "light"
          }
        }
      ]
    },
    {
      "cell_type": "markdown",
      "metadata": {
        "id": "RV1ZevsOtnE3"
      },
      "source": [
        "I may have to drop circulation and time, there may be overfitting there.  I am going to drop the engineered features as you will see below."
      ]
    },
    {
      "cell_type": "code",
      "metadata": {
        "colab": {
          "base_uri": "https://localhost:8080/"
        },
        "id": "1RIH_59gfyqA",
        "outputId": "c6c08b0c-7685-49e1-a5f6-1a8f22d46e0c"
      },
      "source": [
        "y = df['FALLS']\r\n",
        "y.nunique()\r\n",
        "y.value_counts(normalize=True)"
      ],
      "execution_count": 497,
      "outputs": [
        {
          "output_type": "execute_result",
          "data": {
            "text/plain": [
              "0    0.780979\n",
              "1    0.219021\n",
              "Name: FALLS, dtype: float64"
            ]
          },
          "metadata": {
            "tags": []
          },
          "execution_count": 497
        }
      ]
    },
    {
      "cell_type": "code",
      "metadata": {
        "colab": {
          "base_uri": "https://localhost:8080/",
          "height": 669
        },
        "id": "T5Ua-VD4jgyj",
        "outputId": "1aa3eed9-557a-47b8-b704-d7790ebfe75c"
      },
      "source": [
        "df.sample(20)"
      ],
      "execution_count": 498,
      "outputs": [
        {
          "output_type": "execute_result",
          "data": {
            "text/html": [
              "<div>\n",
              "<style scoped>\n",
              "    .dataframe tbody tr th:only-of-type {\n",
              "        vertical-align: middle;\n",
              "    }\n",
              "\n",
              "    .dataframe tbody tr th {\n",
              "        vertical-align: top;\n",
              "    }\n",
              "\n",
              "    .dataframe thead th {\n",
              "        text-align: right;\n",
              "    }\n",
              "</style>\n",
              "<table border=\"1\" class=\"dataframe\">\n",
              "  <thead>\n",
              "    <tr style=\"text-align: right;\">\n",
              "      <th></th>\n",
              "      <th>ACTIVITY</th>\n",
              "      <th>TIME</th>\n",
              "      <th>SL</th>\n",
              "      <th>EEG</th>\n",
              "      <th>BP</th>\n",
              "      <th>HR</th>\n",
              "      <th>CIRCLUATION</th>\n",
              "      <th>FALLS</th>\n",
              "      <th>STANDING</th>\n",
              "      <th>WALKING</th>\n",
              "      <th>SITTING</th>\n",
              "      <th>CRAMPS</th>\n",
              "      <th>RUNNING</th>\n",
              "    </tr>\n",
              "  </thead>\n",
              "  <tbody>\n",
              "    <tr>\n",
              "      <th>14302</th>\n",
              "      <td>2</td>\n",
              "      <td>8560.98</td>\n",
              "      <td>11965.50</td>\n",
              "      <td>-2476.93</td>\n",
              "      <td>78</td>\n",
              "      <td>128</td>\n",
              "      <td>693</td>\n",
              "      <td>0</td>\n",
              "      <td>0</td>\n",
              "      <td>0</td>\n",
              "      <td>1</td>\n",
              "      <td>0</td>\n",
              "      <td>0</td>\n",
              "    </tr>\n",
              "    <tr>\n",
              "      <th>10794</th>\n",
              "      <td>4</td>\n",
              "      <td>8652.28</td>\n",
              "      <td>30045.30</td>\n",
              "      <td>-2068.16</td>\n",
              "      <td>27</td>\n",
              "      <td>132</td>\n",
              "      <td>1513</td>\n",
              "      <td>0</td>\n",
              "      <td>0</td>\n",
              "      <td>0</td>\n",
              "      <td>0</td>\n",
              "      <td>1</td>\n",
              "      <td>0</td>\n",
              "    </tr>\n",
              "    <tr>\n",
              "      <th>6662</th>\n",
              "      <td>4</td>\n",
              "      <td>13540.00</td>\n",
              "      <td>96340.20</td>\n",
              "      <td>-5744.82</td>\n",
              "      <td>55</td>\n",
              "      <td>294</td>\n",
              "      <td>4249</td>\n",
              "      <td>0</td>\n",
              "      <td>0</td>\n",
              "      <td>0</td>\n",
              "      <td>0</td>\n",
              "      <td>1</td>\n",
              "      <td>0</td>\n",
              "    </tr>\n",
              "    <tr>\n",
              "      <th>14619</th>\n",
              "      <td>2</td>\n",
              "      <td>4090.34</td>\n",
              "      <td>2272.34</td>\n",
              "      <td>-1129.58</td>\n",
              "      <td>19</td>\n",
              "      <td>54</td>\n",
              "      <td>165</td>\n",
              "      <td>0</td>\n",
              "      <td>0</td>\n",
              "      <td>0</td>\n",
              "      <td>1</td>\n",
              "      <td>0</td>\n",
              "      <td>0</td>\n",
              "    </tr>\n",
              "    <tr>\n",
              "      <th>2089</th>\n",
              "      <td>3</td>\n",
              "      <td>9351.05</td>\n",
              "      <td>25740.00</td>\n",
              "      <td>-3165.06</td>\n",
              "      <td>25</td>\n",
              "      <td>174</td>\n",
              "      <td>1415</td>\n",
              "      <td>1</td>\n",
              "      <td>0</td>\n",
              "      <td>0</td>\n",
              "      <td>0</td>\n",
              "      <td>0</td>\n",
              "      <td>0</td>\n",
              "    </tr>\n",
              "    <tr>\n",
              "      <th>8386</th>\n",
              "      <td>0</td>\n",
              "      <td>12179.10</td>\n",
              "      <td>65233.00</td>\n",
              "      <td>-6074.00</td>\n",
              "      <td>31</td>\n",
              "      <td>224</td>\n",
              "      <td>2192</td>\n",
              "      <td>0</td>\n",
              "      <td>1</td>\n",
              "      <td>0</td>\n",
              "      <td>0</td>\n",
              "      <td>0</td>\n",
              "      <td>0</td>\n",
              "    </tr>\n",
              "    <tr>\n",
              "      <th>4288</th>\n",
              "      <td>4</td>\n",
              "      <td>9863.19</td>\n",
              "      <td>32932.10</td>\n",
              "      <td>-3495.00</td>\n",
              "      <td>80</td>\n",
              "      <td>176</td>\n",
              "      <td>1922</td>\n",
              "      <td>0</td>\n",
              "      <td>0</td>\n",
              "      <td>0</td>\n",
              "      <td>0</td>\n",
              "      <td>1</td>\n",
              "      <td>0</td>\n",
              "    </tr>\n",
              "    <tr>\n",
              "      <th>1761</th>\n",
              "      <td>3</td>\n",
              "      <td>11182.70</td>\n",
              "      <td>49091.10</td>\n",
              "      <td>-5140.00</td>\n",
              "      <td>20</td>\n",
              "      <td>216</td>\n",
              "      <td>2677</td>\n",
              "      <td>1</td>\n",
              "      <td>0</td>\n",
              "      <td>0</td>\n",
              "      <td>0</td>\n",
              "      <td>0</td>\n",
              "      <td>0</td>\n",
              "    </tr>\n",
              "    <tr>\n",
              "      <th>13486</th>\n",
              "      <td>5</td>\n",
              "      <td>9387.99</td>\n",
              "      <td>30218.50</td>\n",
              "      <td>-3296.09</td>\n",
              "      <td>114</td>\n",
              "      <td>171</td>\n",
              "      <td>1747</td>\n",
              "      <td>0</td>\n",
              "      <td>0</td>\n",
              "      <td>0</td>\n",
              "      <td>0</td>\n",
              "      <td>0</td>\n",
              "      <td>1</td>\n",
              "    </tr>\n",
              "    <tr>\n",
              "      <th>9122</th>\n",
              "      <td>0</td>\n",
              "      <td>12017.90</td>\n",
              "      <td>70093.00</td>\n",
              "      <td>-5112.00</td>\n",
              "      <td>143</td>\n",
              "      <td>279</td>\n",
              "      <td>3451</td>\n",
              "      <td>0</td>\n",
              "      <td>1</td>\n",
              "      <td>0</td>\n",
              "      <td>0</td>\n",
              "      <td>0</td>\n",
              "      <td>0</td>\n",
              "    </tr>\n",
              "    <tr>\n",
              "      <th>13566</th>\n",
              "      <td>3</td>\n",
              "      <td>6814.93</td>\n",
              "      <td>10444.00</td>\n",
              "      <td>-3080.00</td>\n",
              "      <td>14</td>\n",
              "      <td>109</td>\n",
              "      <td>689</td>\n",
              "      <td>1</td>\n",
              "      <td>0</td>\n",
              "      <td>0</td>\n",
              "      <td>0</td>\n",
              "      <td>0</td>\n",
              "      <td>0</td>\n",
              "    </tr>\n",
              "    <tr>\n",
              "      <th>8743</th>\n",
              "      <td>5</td>\n",
              "      <td>7932.91</td>\n",
              "      <td>4738.13</td>\n",
              "      <td>-2734.34</td>\n",
              "      <td>36</td>\n",
              "      <td>131</td>\n",
              "      <td>271</td>\n",
              "      <td>0</td>\n",
              "      <td>0</td>\n",
              "      <td>0</td>\n",
              "      <td>0</td>\n",
              "      <td>0</td>\n",
              "      <td>1</td>\n",
              "    </tr>\n",
              "    <tr>\n",
              "      <th>6394</th>\n",
              "      <td>3</td>\n",
              "      <td>5251.44</td>\n",
              "      <td>4455.68</td>\n",
              "      <td>-1262.52</td>\n",
              "      <td>16</td>\n",
              "      <td>72</td>\n",
              "      <td>340</td>\n",
              "      <td>1</td>\n",
              "      <td>0</td>\n",
              "      <td>0</td>\n",
              "      <td>0</td>\n",
              "      <td>0</td>\n",
              "      <td>0</td>\n",
              "    </tr>\n",
              "    <tr>\n",
              "      <th>15347</th>\n",
              "      <td>4</td>\n",
              "      <td>6099.76</td>\n",
              "      <td>11337.90</td>\n",
              "      <td>-1864.27</td>\n",
              "      <td>20</td>\n",
              "      <td>102</td>\n",
              "      <td>764</td>\n",
              "      <td>0</td>\n",
              "      <td>0</td>\n",
              "      <td>0</td>\n",
              "      <td>0</td>\n",
              "      <td>1</td>\n",
              "      <td>0</td>\n",
              "    </tr>\n",
              "    <tr>\n",
              "      <th>5867</th>\n",
              "      <td>3</td>\n",
              "      <td>8672.72</td>\n",
              "      <td>13559.80</td>\n",
              "      <td>-2900.71</td>\n",
              "      <td>18</td>\n",
              "      <td>148</td>\n",
              "      <td>729</td>\n",
              "      <td>1</td>\n",
              "      <td>0</td>\n",
              "      <td>0</td>\n",
              "      <td>0</td>\n",
              "      <td>0</td>\n",
              "      <td>0</td>\n",
              "    </tr>\n",
              "    <tr>\n",
              "      <th>2269</th>\n",
              "      <td>3</td>\n",
              "      <td>9228.50</td>\n",
              "      <td>36909.90</td>\n",
              "      <td>-4070.00</td>\n",
              "      <td>45</td>\n",
              "      <td>196</td>\n",
              "      <td>1997</td>\n",
              "      <td>1</td>\n",
              "      <td>0</td>\n",
              "      <td>0</td>\n",
              "      <td>0</td>\n",
              "      <td>0</td>\n",
              "      <td>0</td>\n",
              "    </tr>\n",
              "    <tr>\n",
              "      <th>412</th>\n",
              "      <td>2</td>\n",
              "      <td>6310.09</td>\n",
              "      <td>5432.27</td>\n",
              "      <td>-2380.00</td>\n",
              "      <td>16</td>\n",
              "      <td>79</td>\n",
              "      <td>292</td>\n",
              "      <td>0</td>\n",
              "      <td>0</td>\n",
              "      <td>0</td>\n",
              "      <td>1</td>\n",
              "      <td>0</td>\n",
              "      <td>0</td>\n",
              "    </tr>\n",
              "    <tr>\n",
              "      <th>148</th>\n",
              "      <td>4</td>\n",
              "      <td>10132.60</td>\n",
              "      <td>32119.00</td>\n",
              "      <td>-3410.33</td>\n",
              "      <td>76</td>\n",
              "      <td>176</td>\n",
              "      <td>1922</td>\n",
              "      <td>0</td>\n",
              "      <td>0</td>\n",
              "      <td>0</td>\n",
              "      <td>0</td>\n",
              "      <td>1</td>\n",
              "      <td>0</td>\n",
              "    </tr>\n",
              "    <tr>\n",
              "      <th>12901</th>\n",
              "      <td>3</td>\n",
              "      <td>10447.90</td>\n",
              "      <td>85898.50</td>\n",
              "      <td>-3300.00</td>\n",
              "      <td>22</td>\n",
              "      <td>220</td>\n",
              "      <td>3450</td>\n",
              "      <td>1</td>\n",
              "      <td>0</td>\n",
              "      <td>0</td>\n",
              "      <td>0</td>\n",
              "      <td>0</td>\n",
              "      <td>0</td>\n",
              "    </tr>\n",
              "    <tr>\n",
              "      <th>13438</th>\n",
              "      <td>3</td>\n",
              "      <td>10592.90</td>\n",
              "      <td>50640.80</td>\n",
              "      <td>-4710.00</td>\n",
              "      <td>21</td>\n",
              "      <td>216</td>\n",
              "      <td>2677</td>\n",
              "      <td>1</td>\n",
              "      <td>0</td>\n",
              "      <td>0</td>\n",
              "      <td>0</td>\n",
              "      <td>0</td>\n",
              "      <td>0</td>\n",
              "    </tr>\n",
              "  </tbody>\n",
              "</table>\n",
              "</div>"
            ],
            "text/plain": [
              "       ACTIVITY      TIME        SL      EEG   BP   HR  CIRCLUATION  FALLS  \\\n",
              "14302         2   8560.98  11965.50 -2476.93   78  128          693      0   \n",
              "10794         4   8652.28  30045.30 -2068.16   27  132         1513      0   \n",
              "6662          4  13540.00  96340.20 -5744.82   55  294         4249      0   \n",
              "14619         2   4090.34   2272.34 -1129.58   19   54          165      0   \n",
              "2089          3   9351.05  25740.00 -3165.06   25  174         1415      1   \n",
              "8386          0  12179.10  65233.00 -6074.00   31  224         2192      0   \n",
              "4288          4   9863.19  32932.10 -3495.00   80  176         1922      0   \n",
              "1761          3  11182.70  49091.10 -5140.00   20  216         2677      1   \n",
              "13486         5   9387.99  30218.50 -3296.09  114  171         1747      0   \n",
              "9122          0  12017.90  70093.00 -5112.00  143  279         3451      0   \n",
              "13566         3   6814.93  10444.00 -3080.00   14  109          689      1   \n",
              "8743          5   7932.91   4738.13 -2734.34   36  131          271      0   \n",
              "6394          3   5251.44   4455.68 -1262.52   16   72          340      1   \n",
              "15347         4   6099.76  11337.90 -1864.27   20  102          764      0   \n",
              "5867          3   8672.72  13559.80 -2900.71   18  148          729      1   \n",
              "2269          3   9228.50  36909.90 -4070.00   45  196         1997      1   \n",
              "412           2   6310.09   5432.27 -2380.00   16   79          292      0   \n",
              "148           4  10132.60  32119.00 -3410.33   76  176         1922      0   \n",
              "12901         3  10447.90  85898.50 -3300.00   22  220         3450      1   \n",
              "13438         3  10592.90  50640.80 -4710.00   21  216         2677      1   \n",
              "\n",
              "       STANDING  WALKING  SITTING  CRAMPS  RUNNING  \n",
              "14302         0        0        1       0        0  \n",
              "10794         0        0        0       1        0  \n",
              "6662          0        0        0       1        0  \n",
              "14619         0        0        1       0        0  \n",
              "2089          0        0        0       0        0  \n",
              "8386          1        0        0       0        0  \n",
              "4288          0        0        0       1        0  \n",
              "1761          0        0        0       0        0  \n",
              "13486         0        0        0       0        1  \n",
              "9122          1        0        0       0        0  \n",
              "13566         0        0        0       0        0  \n",
              "8743          0        0        0       0        1  \n",
              "6394          0        0        0       0        0  \n",
              "15347         0        0        0       1        0  \n",
              "5867          0        0        0       0        0  \n",
              "2269          0        0        0       0        0  \n",
              "412           0        0        1       0        0  \n",
              "148           0        0        0       1        0  \n",
              "12901         0        0        0       0        0  \n",
              "13438         0        0        0       0        0  "
            ]
          },
          "metadata": {
            "tags": []
          },
          "execution_count": 498
        }
      ]
    },
    {
      "cell_type": "code",
      "metadata": {
        "id": "4_EaYEl9gU2I"
      },
      "source": [
        "#df.apply(np.sqrt)"
      ],
      "execution_count": 499,
      "outputs": []
    },
    {
      "cell_type": "code",
      "metadata": {
        "id": "ok6UB1PRXksD"
      },
      "source": [
        "#df['FALLS'] = df.loc[df['ACTIVITY'].isin([3])]=1\r\n",
        "#df['FALLS'] = df.loc[df['ACTIVITY'].isin([0,1,2,4,5])]=0"
      ],
      "execution_count": 500,
      "outputs": []
    },
    {
      "cell_type": "code",
      "metadata": {
        "colab": {
          "base_uri": "https://localhost:8080/"
        },
        "id": "C0H6aVHqltoV",
        "outputId": "f6024060-d42c-4f93-8b7e-bb698a81a1ea"
      },
      "source": [
        "df.isna().sum().sort_values()"
      ],
      "execution_count": 501,
      "outputs": [
        {
          "output_type": "execute_result",
          "data": {
            "text/plain": [
              "ACTIVITY       0\n",
              "TIME           0\n",
              "SL             0\n",
              "EEG            0\n",
              "BP             0\n",
              "HR             0\n",
              "CIRCLUATION    0\n",
              "FALLS          0\n",
              "STANDING       0\n",
              "WALKING        0\n",
              "SITTING        0\n",
              "CRAMPS         0\n",
              "RUNNING        0\n",
              "dtype: int64"
            ]
          },
          "metadata": {
            "tags": []
          },
          "execution_count": 501
        }
      ]
    },
    {
      "cell_type": "code",
      "metadata": {
        "colab": {
          "base_uri": "https://localhost:8080/",
          "height": 204
        },
        "id": "B6v77OCrXrhB",
        "outputId": "f25519e7-2611-4efb-eff9-adf6e29c2913"
      },
      "source": [
        "df.head()"
      ],
      "execution_count": 502,
      "outputs": [
        {
          "output_type": "execute_result",
          "data": {
            "text/html": [
              "<div>\n",
              "<style scoped>\n",
              "    .dataframe tbody tr th:only-of-type {\n",
              "        vertical-align: middle;\n",
              "    }\n",
              "\n",
              "    .dataframe tbody tr th {\n",
              "        vertical-align: top;\n",
              "    }\n",
              "\n",
              "    .dataframe thead th {\n",
              "        text-align: right;\n",
              "    }\n",
              "</style>\n",
              "<table border=\"1\" class=\"dataframe\">\n",
              "  <thead>\n",
              "    <tr style=\"text-align: right;\">\n",
              "      <th></th>\n",
              "      <th>ACTIVITY</th>\n",
              "      <th>TIME</th>\n",
              "      <th>SL</th>\n",
              "      <th>EEG</th>\n",
              "      <th>BP</th>\n",
              "      <th>HR</th>\n",
              "      <th>CIRCLUATION</th>\n",
              "      <th>FALLS</th>\n",
              "      <th>STANDING</th>\n",
              "      <th>WALKING</th>\n",
              "      <th>SITTING</th>\n",
              "      <th>CRAMPS</th>\n",
              "      <th>RUNNING</th>\n",
              "    </tr>\n",
              "  </thead>\n",
              "  <tbody>\n",
              "    <tr>\n",
              "      <th>0</th>\n",
              "      <td>3</td>\n",
              "      <td>4722.92</td>\n",
              "      <td>4019.64</td>\n",
              "      <td>-1600.00</td>\n",
              "      <td>13</td>\n",
              "      <td>79</td>\n",
              "      <td>317</td>\n",
              "      <td>1</td>\n",
              "      <td>0</td>\n",
              "      <td>0</td>\n",
              "      <td>0</td>\n",
              "      <td>0</td>\n",
              "      <td>0</td>\n",
              "    </tr>\n",
              "    <tr>\n",
              "      <th>1</th>\n",
              "      <td>2</td>\n",
              "      <td>4059.12</td>\n",
              "      <td>2191.03</td>\n",
              "      <td>-1146.08</td>\n",
              "      <td>20</td>\n",
              "      <td>54</td>\n",
              "      <td>165</td>\n",
              "      <td>0</td>\n",
              "      <td>0</td>\n",
              "      <td>0</td>\n",
              "      <td>1</td>\n",
              "      <td>0</td>\n",
              "      <td>0</td>\n",
              "    </tr>\n",
              "    <tr>\n",
              "      <th>2</th>\n",
              "      <td>2</td>\n",
              "      <td>4773.56</td>\n",
              "      <td>2787.99</td>\n",
              "      <td>-1263.38</td>\n",
              "      <td>46</td>\n",
              "      <td>67</td>\n",
              "      <td>224</td>\n",
              "      <td>0</td>\n",
              "      <td>0</td>\n",
              "      <td>0</td>\n",
              "      <td>1</td>\n",
              "      <td>0</td>\n",
              "      <td>0</td>\n",
              "    </tr>\n",
              "    <tr>\n",
              "      <th>3</th>\n",
              "      <td>4</td>\n",
              "      <td>8271.27</td>\n",
              "      <td>9545.98</td>\n",
              "      <td>-2848.93</td>\n",
              "      <td>26</td>\n",
              "      <td>138</td>\n",
              "      <td>554</td>\n",
              "      <td>0</td>\n",
              "      <td>0</td>\n",
              "      <td>0</td>\n",
              "      <td>0</td>\n",
              "      <td>1</td>\n",
              "      <td>0</td>\n",
              "    </tr>\n",
              "    <tr>\n",
              "      <th>4</th>\n",
              "      <td>4</td>\n",
              "      <td>7102.16</td>\n",
              "      <td>14148.80</td>\n",
              "      <td>-2381.15</td>\n",
              "      <td>85</td>\n",
              "      <td>120</td>\n",
              "      <td>809</td>\n",
              "      <td>0</td>\n",
              "      <td>0</td>\n",
              "      <td>0</td>\n",
              "      <td>0</td>\n",
              "      <td>1</td>\n",
              "      <td>0</td>\n",
              "    </tr>\n",
              "  </tbody>\n",
              "</table>\n",
              "</div>"
            ],
            "text/plain": [
              "   ACTIVITY     TIME        SL      EEG  BP   HR  CIRCLUATION  FALLS  \\\n",
              "0         3  4722.92   4019.64 -1600.00  13   79          317      1   \n",
              "1         2  4059.12   2191.03 -1146.08  20   54          165      0   \n",
              "2         2  4773.56   2787.99 -1263.38  46   67          224      0   \n",
              "3         4  8271.27   9545.98 -2848.93  26  138          554      0   \n",
              "4         4  7102.16  14148.80 -2381.15  85  120          809      0   \n",
              "\n",
              "   STANDING  WALKING  SITTING  CRAMPS  RUNNING  \n",
              "0         0        0        0       0        0  \n",
              "1         0        0        1       0        0  \n",
              "2         0        0        1       0        0  \n",
              "3         0        0        0       1        0  \n",
              "4         0        0        0       1        0  "
            ]
          },
          "metadata": {
            "tags": []
          },
          "execution_count": 502
        }
      ]
    },
    {
      "cell_type": "code",
      "metadata": {
        "id": "UhpaxM2el056"
      },
      "source": [
        "df=df.fillna('Missing')"
      ],
      "execution_count": 503,
      "outputs": []
    },
    {
      "cell_type": "code",
      "metadata": {
        "id": "gitZsV0CPcdO"
      },
      "source": [
        "target = 'FALLS'"
      ],
      "execution_count": 504,
      "outputs": []
    },
    {
      "cell_type": "code",
      "metadata": {
        "id": "YOOrwEsYXvnO"
      },
      "source": [
        "build_df = df"
      ],
      "execution_count": 505,
      "outputs": []
    },
    {
      "cell_type": "code",
      "metadata": {
        "id": "tY0kk5SopVES"
      },
      "source": [
        "build_df = build_df.drop(columns=['ACTIVITY', 'WALKING', 'SITTING', 'CRAMPS', 'RUNNING', 'STANDING', 'TIME'])"
      ],
      "execution_count": 506,
      "outputs": []
    },
    {
      "cell_type": "code",
      "metadata": {
        "id": "Dvqpamf9OmVU"
      },
      "source": [
        "%matplotlib inline\r\n",
        "import category_encoders as ce\r\n",
        "import matplotlib.pyplot as plt\r\n",
        "import numpy as np\r\n",
        "import pandas as pd\r\n",
        "import seaborn as sns\r\n",
        "from sklearn.impute import SimpleImputer\r\n",
        "from sklearn.metrics import accuracy_score\r\n",
        "from sklearn.model_selection import train_test_split\r\n",
        "from sklearn.pipeline import make_pipeline\r\n",
        "from sklearn.preprocessing import FunctionTransformer\r\n",
        "from sklearn.ensemble import RandomForestClassifier\r\n",
        "from sklearn.tree import DecisionTreeClassifier"
      ],
      "execution_count": 507,
      "outputs": []
    },
    {
      "cell_type": "code",
      "metadata": {
        "id": "sy2A8EmaQ8V0"
      },
      "source": [
        "# Split train into train & test. Make val the same size as test.\r\n",
        "target = 'FALLS'\r\n",
        "train, test = train_test_split(build_df, test_size=0.2,  \r\n",
        "                              stratify=build_df[target], random_state=42)"
      ],
      "execution_count": 508,
      "outputs": []
    },
    {
      "cell_type": "code",
      "metadata": {
        "id": "M0qQbBX_Wx-I"
      },
      "source": [
        "train, val = train_test_split(train, test_size=len(test),  \r\n",
        "                              stratify=train[target], random_state=42)"
      ],
      "execution_count": 509,
      "outputs": []
    },
    {
      "cell_type": "code",
      "metadata": {
        "colab": {
          "base_uri": "https://localhost:8080/"
        },
        "id": "XRZUHgOck1KJ",
        "outputId": "0ce59fa0-03fb-4b3c-c2cd-28809e64f758"
      },
      "source": [
        "train.shape, val.shape, test.shape"
      ],
      "execution_count": 510,
      "outputs": [
        {
          "output_type": "execute_result",
          "data": {
            "text/plain": [
              "((9828, 6), (3277, 6), (3277, 6))"
            ]
          },
          "metadata": {
            "tags": []
          },
          "execution_count": 510
        }
      ]
    },
    {
      "cell_type": "code",
      "metadata": {
        "id": "N7fDhJ_uQp0r"
      },
      "source": [
        "# Arrange data into X features matrix and y target vector\r\n",
        "X_train = train.drop(columns=target)\r\n",
        "y_train = train[target]\r\n",
        "X_val = val.drop(columns=target)\r\n",
        "y_val = val[target]\r\n",
        "X_test = test.drop(columns=target)\r\n",
        "y_test = test[target]\r\n"
      ],
      "execution_count": 511,
      "outputs": []
    },
    {
      "cell_type": "code",
      "metadata": {
        "colab": {
          "base_uri": "https://localhost:8080/"
        },
        "id": "khENBL8wZq-d",
        "outputId": "edbc24ab-0aa7-49ff-bf36-e917ddc8164e"
      },
      "source": [
        "X_train.columns"
      ],
      "execution_count": 512,
      "outputs": [
        {
          "output_type": "execute_result",
          "data": {
            "text/plain": [
              "Index(['SL', 'EEG', 'BP', 'HR', 'CIRCLUATION'], dtype='object')"
            ]
          },
          "metadata": {
            "tags": []
          },
          "execution_count": 512
        }
      ]
    },
    {
      "cell_type": "code",
      "metadata": {
        "id": "zFhsaV1BOh1m"
      },
      "source": [
        "pipeline = make_pipeline(\r\n",
        "    ce.OneHotEncoder(), \r\n",
        "    SimpleImputer(strategy='mean'), \r\n",
        "    RandomForestClassifier(n_estimators=100, random_state=42, n_jobs=-1)\r\n",
        ")"
      ],
      "execution_count": 513,
      "outputs": []
    },
    {
      "cell_type": "code",
      "metadata": {
        "id": "s7MlrRqamUNV"
      },
      "source": [
        "model = make_pipeline(\r\n",
        "    ce.OneHotEncoder(),\r\n",
        "    SimpleImputer(strategy='median'),  \r\n",
        "    DecisionTreeClassifier(max_depth=11)\r\n",
        ")"
      ],
      "execution_count": 564,
      "outputs": []
    },
    {
      "cell_type": "code",
      "metadata": {
        "colab": {
          "base_uri": "https://localhost:8080/"
        },
        "id": "afC_1JiWYOXO",
        "outputId": "9bdac8dd-3f18-4c50-c26f-d1722ef9fee0"
      },
      "source": [
        "pipeline.fit(X_train, y_train)"
      ],
      "execution_count": 533,
      "outputs": [
        {
          "output_type": "stream",
          "text": [
            "/usr/local/lib/python3.6/dist-packages/category_encoders/utils.py:21: FutureWarning: is_categorical is deprecated and will be removed in a future version.  Use is_categorical_dtype instead\n",
            "  elif pd.api.types.is_categorical(cols):\n"
          ],
          "name": "stderr"
        },
        {
          "output_type": "execute_result",
          "data": {
            "text/plain": [
              "Pipeline(memory=None,\n",
              "         steps=[('onehotencoder',\n",
              "                 OneHotEncoder(cols=[], drop_invariant=False,\n",
              "                               handle_missing='value', handle_unknown='value',\n",
              "                               return_df=True, use_cat_names=False,\n",
              "                               verbose=0)),\n",
              "                ('simpleimputer',\n",
              "                 SimpleImputer(add_indicator=False, copy=True, fill_value=None,\n",
              "                               missing_values=nan, strategy='mean',\n",
              "                               verbose=0)),\n",
              "                ('randomforestclassifier',\n",
              "                 RandomForestClassif...ap=True, ccp_alpha=0.0,\n",
              "                                        class_weight=None, criterion='gini',\n",
              "                                        max_depth=None, max_features='auto',\n",
              "                                        max_leaf_nodes=None, max_samples=None,\n",
              "                                        min_impurity_decrease=0.0,\n",
              "                                        min_impurity_split=None,\n",
              "                                        min_samples_leaf=1, min_samples_split=2,\n",
              "                                        min_weight_fraction_leaf=0.0,\n",
              "                                        n_estimators=100, n_jobs=-1,\n",
              "                                        oob_score=False, random_state=42,\n",
              "                                        verbose=0, warm_start=False))],\n",
              "         verbose=False)"
            ]
          },
          "metadata": {
            "tags": []
          },
          "execution_count": 533
        }
      ]
    },
    {
      "cell_type": "code",
      "metadata": {
        "colab": {
          "base_uri": "https://localhost:8080/"
        },
        "id": "t1fU_CrmmvUs",
        "outputId": "ff83d700-89a2-4102-b082-6907aeec35aa"
      },
      "source": [
        "model.fit(X_train, y_train)"
      ],
      "execution_count": 565,
      "outputs": [
        {
          "output_type": "stream",
          "text": [
            "/usr/local/lib/python3.6/dist-packages/category_encoders/utils.py:21: FutureWarning: is_categorical is deprecated and will be removed in a future version.  Use is_categorical_dtype instead\n",
            "  elif pd.api.types.is_categorical(cols):\n"
          ],
          "name": "stderr"
        },
        {
          "output_type": "execute_result",
          "data": {
            "text/plain": [
              "Pipeline(memory=None,\n",
              "         steps=[('onehotencoder',\n",
              "                 OneHotEncoder(cols=[], drop_invariant=False,\n",
              "                               handle_missing='value', handle_unknown='value',\n",
              "                               return_df=True, use_cat_names=False,\n",
              "                               verbose=0)),\n",
              "                ('simpleimputer',\n",
              "                 SimpleImputer(add_indicator=False, copy=True, fill_value=None,\n",
              "                               missing_values=nan, strategy='median',\n",
              "                               verbose=0)),\n",
              "                ('decisiontreeclassifier',\n",
              "                 DecisionTreeClassifier(ccp_alpha=0.0, class_weight=None,\n",
              "                                        criterion='gini', max_depth=11,\n",
              "                                        max_features=None, max_leaf_nodes=None,\n",
              "                                        min_impurity_decrease=0.0,\n",
              "                                        min_impurity_split=None,\n",
              "                                        min_samples_leaf=1, min_samples_split=2,\n",
              "                                        min_weight_fraction_leaf=0.0,\n",
              "                                        presort='deprecated', random_state=None,\n",
              "                                        splitter='best'))],\n",
              "         verbose=False)"
            ]
          },
          "metadata": {
            "tags": []
          },
          "execution_count": 565
        }
      ]
    },
    {
      "cell_type": "code",
      "metadata": {
        "colab": {
          "base_uri": "https://localhost:8080/"
        },
        "id": "iXfQW7_-m2wG",
        "outputId": "ed3230bd-3a63-4f5a-c6a9-f8d4001f736a"
      },
      "source": [
        "print('Train Accuracy', model.score(X_train, y_train))"
      ],
      "execution_count": 571,
      "outputs": [
        {
          "output_type": "stream",
          "text": [
            "Train Accuracy 0.894993894993895\n"
          ],
          "name": "stdout"
        }
      ]
    },
    {
      "cell_type": "code",
      "metadata": {
        "colab": {
          "base_uri": "https://localhost:8080/"
        },
        "id": "fs2q1Iokm6_t",
        "outputId": "824556df-cf3b-4d6c-c8d8-c08c41259ff1"
      },
      "source": [
        "print('Val Accuracy', model.score(X_val, y_val))"
      ],
      "execution_count": 570,
      "outputs": [
        {
          "output_type": "stream",
          "text": [
            "Val Accuracy 0.8309429356118401\n"
          ],
          "name": "stdout"
        }
      ]
    },
    {
      "cell_type": "code",
      "metadata": {
        "colab": {
          "base_uri": "https://localhost:8080/"
        },
        "id": "1wdWlUjhnF5H",
        "outputId": "b2d8a7bc-015b-4fdb-93ea-7f71e290e488"
      },
      "source": [
        "print('Test Accuracy', model.score(X_test, y_test))"
      ],
      "execution_count": 569,
      "outputs": [
        {
          "output_type": "stream",
          "text": [
            "Test Accuracy 0.8275862068965517\n"
          ],
          "name": "stdout"
        }
      ]
    },
    {
      "cell_type": "markdown",
      "metadata": {
        "id": "abZ88rAPokZi"
      },
      "source": [
        "##Baseline"
      ]
    },
    {
      "cell_type": "code",
      "metadata": {
        "colab": {
          "base_uri": "https://localhost:8080/"
        },
        "id": "AMtIZ4OKopN9",
        "outputId": "bb4ba442-fa8b-4f78-9790-a21110dd6c5d"
      },
      "source": [
        "y.value_counts(normalize=True).max()"
      ],
      "execution_count": 539,
      "outputs": [
        {
          "output_type": "execute_result",
          "data": {
            "text/plain": [
              "0.7809791234281529"
            ]
          },
          "metadata": {
            "tags": []
          },
          "execution_count": 539
        }
      ]
    },
    {
      "cell_type": "markdown",
      "metadata": {
        "id": "gjWHpVuvosFo"
      },
      "source": [
        "##ROC-AUC Score"
      ]
    },
    {
      "cell_type": "code",
      "metadata": {
        "colab": {
          "base_uri": "https://localhost:8080/"
        },
        "id": "4kYdVe8nopeO",
        "outputId": "5b947d27-6a95-428a-a620-622b79e67d3d"
      },
      "source": [
        "from sklearn.metrics import roc_auc_score\r\n",
        "y_pred_proba = model.predict_proba(X_val)[:,-1] # probability for the last class \r\n",
        "roc_auc_score(y_val, y_pred_proba)"
      ],
      "execution_count": 552,
      "outputs": [
        {
          "output_type": "execute_result",
          "data": {
            "text/plain": [
              "0.849911177002681"
            ]
          },
          "metadata": {
            "tags": []
          },
          "execution_count": 552
        }
      ]
    },
    {
      "cell_type": "code",
      "metadata": {
        "colab": {
          "base_uri": "https://localhost:8080/"
        },
        "id": "pNdWyJpSpCID",
        "outputId": "1a8a24af-e194-4b4b-f157-249cfb14e6ea"
      },
      "source": [
        "from sklearn.metrics import roc_auc_score\r\n",
        "y_pred_proba = pipeline.predict_proba(X_val)[:,-1] # probability for the last class \r\n",
        "roc_auc_score(y_val, y_pred_proba)"
      ],
      "execution_count": 553,
      "outputs": [
        {
          "output_type": "execute_result",
          "data": {
            "text/plain": [
              "0.902375525345577"
            ]
          },
          "metadata": {
            "tags": []
          },
          "execution_count": 553
        }
      ]
    },
    {
      "cell_type": "code",
      "metadata": {
        "colab": {
          "base_uri": "https://localhost:8080/",
          "height": 333
        },
        "id": "pu7vdUpfpIPE",
        "outputId": "0defc7e4-f097-4bb8-d7e8-0b237623e180"
      },
      "source": [
        "y = df['FALLS']\r\n",
        "sns.distplot(y);"
      ],
      "execution_count": 524,
      "outputs": [
        {
          "output_type": "stream",
          "text": [
            "/usr/local/lib/python3.6/dist-packages/seaborn/distributions.py:2557: FutureWarning: `distplot` is a deprecated function and will be removed in a future version. Please adapt your code to use either `displot` (a figure-level function with similar flexibility) or `histplot` (an axes-level function for histograms).\n",
            "  warnings.warn(msg, FutureWarning)\n"
          ],
          "name": "stderr"
        },
        {
          "output_type": "display_data",
          "data": {
            "image/png": "[encoded data removed]",
            "text/plain": [
              "<Figure size 432x288 with 1 Axes>"
            ]
          },
          "metadata": {
            "tags": [],
            "needs_background": "light"
          }
        }
      ]
    },
    {
      "cell_type": "code",
      "metadata": {
        "id": "8RM5Kc_-pgXD"
      },
      "source": [
        "There are outliers and the model is skewed."
      ],
      "execution_count": null,
      "outputs": []
    },
    {
      "cell_type": "markdown",
      "metadata": {
        "id": "BX3sVgc4phd5"
      },
      "source": [
        ""
      ]
    },
    {
      "cell_type": "code",
      "metadata": {
        "colab": {
          "base_uri": "https://localhost:8080/"
        },
        "id": "S5WFBxsUbhBd",
        "outputId": "07d7b823-c966-44ef-dbe1-f59324fd0bf8"
      },
      "source": [
        "print('Train Accuracy', pipeline.score(X_train, y_train))"
      ],
      "execution_count": 435,
      "outputs": [
        {
          "output_type": "stream",
          "text": [
            "Train Accuracy 1.0\n"
          ],
          "name": "stdout"
        }
      ]
    },
    {
      "cell_type": "code",
      "metadata": {
        "colab": {
          "base_uri": "https://localhost:8080/"
        },
        "id": "l_UXfoVwYtHc",
        "outputId": "d68be824-8204-4c27-ff54-6198d1f70d03"
      },
      "source": [
        "print('Validation Accuracy', pipeline.score(X_val, y_val))"
      ],
      "execution_count": 436,
      "outputs": [
        {
          "output_type": "stream",
          "text": [
            "Validation Accuracy 0.8596277082697589\n"
          ],
          "name": "stdout"
        }
      ]
    },
    {
      "cell_type": "code",
      "metadata": {
        "colab": {
          "base_uri": "https://localhost:8080/"
        },
        "id": "Th6kFvHhbDp3",
        "outputId": "3aaf9c79-4739-4930-e140-8a99c0765156"
      },
      "source": [
        "print('Test Accuracy', pipeline.score(X_test, y_test))"
      ],
      "execution_count": 437,
      "outputs": [
        {
          "output_type": "stream",
          "text": [
            "Test Accuracy 0.8642050656087885\n"
          ],
          "name": "stdout"
        }
      ]
    }
  ]
}